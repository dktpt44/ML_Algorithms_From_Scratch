{
 "cells": [
  {
   "attachments": {},
   "cell_type": "markdown",
   "metadata": {},
   "source": [
    "------------------------------\n",
    "# CNN from scratch\n",
    "------------------------------"
   ]
  },
  {
   "attachments": {},
   "cell_type": "markdown",
   "metadata": {},
   "source": [
    "### 1.  Loading data and normalize pixel values"
   ]
  },
  {
   "cell_type": "code",
   "execution_count": 1,
   "metadata": {},
   "outputs": [
    {
     "name": "stderr",
     "output_type": "stream",
     "text": [
      "2023-05-13 21:14:57.075230: I tensorflow/core/util/port.cc:110] oneDNN custom operations are on. You may see slightly different numerical results due to floating-point round-off errors from different computation orders. To turn them off, set the environment variable `TF_ENABLE_ONEDNN_OPTS=0`.\n",
      "2023-05-13 21:14:57.113470: I tensorflow/core/platform/cpu_feature_guard.cc:182] This TensorFlow binary is optimized to use available CPU instructions in performance-critical operations.\n",
      "To enable the following instructions: AVX2 AVX512F AVX512_VNNI FMA, in other operations, rebuild TensorFlow with the appropriate compiler flags.\n",
      "2023-05-13 21:14:57.658757: W tensorflow/compiler/tf2tensorrt/utils/py_utils.cc:38] TF-TRT Warning: Could not find TensorRT\n"
     ]
    },
    {
     "data": {
      "image/png": "[encoded data removed]",
      "text/plain": [
       "<Figure size 1200x200 with 6 Axes>"
      ]
     },
     "metadata": {},
     "output_type": "display_data"
    },
    {
     "name": "stdout",
     "output_type": "stream",
     "text": [
      "(60000, 784)\n"
     ]
    },
    {
     "data": {
      "image/png": "[encoded data removed]",
      "text/plain": [
       "<Figure size 1200x200 with 6 Axes>"
      ]
     },
     "metadata": {},
     "output_type": "display_data"
    },
    {
     "name": "stdout",
     "output_type": "stream",
     "text": [
      "Number of categories:  10\n"
     ]
    }
   ],
   "source": [
    "import numpy as np\n",
    "import tensorflow as tf\n",
    "from sklearn.preprocessing import StandardScaler\n",
    "import matplotlib.pyplot as plt\n",
    "\n",
    "\n",
    "# load the MNIST dataset\n",
    "(xTrain, yTrain), (xTest, yTest) = tf.keras.datasets.mnist.load_data()\n",
    "\n",
    "# plot the first five images before normalization\n",
    "plt.figure(figsize=(12,2))\n",
    "for i in range(6):\n",
    "    plt.subplot(1, 6, i+1)\n",
    "    plt.imshow(xTrain[i])\n",
    "    plt.axis('off')\n",
    "plt.suptitle('Before Normalization')\n",
    "plt.show()\n",
    "\n",
    "\n",
    "# Preprocess the data, alternative: but gives worse results\n",
    "# xTrain = xTrain / 255\n",
    "# xTest = xTest / 255\n",
    "\n",
    "\n",
    "# normalizing with standard scalar: gives better result for the model\n",
    "scaler = StandardScaler()\n",
    "h, w = xTrain.shape[1], xTrain.shape[2]\n",
    "xTrain = xTrain.reshape(-1, h * w)\n",
    "xTest = xTest.reshape(-1, h * w)\n",
    "print(xTrain.shape)\n",
    "\n",
    "# fit it to the train and test\n",
    "xTrain = scaler.fit_transform(xTrain)\n",
    "xTrain = xTrain.reshape(-1, h, w)\n",
    "xTest = scaler.transform(xTest)\n",
    "xTest = xTest.reshape(-1, h, w)\n",
    "\n",
    "\n",
    "# plot after normalization\n",
    "plt.figure(figsize=(12,2))\n",
    "for i in range(6):\n",
    "    plt.subplot(1, 6, i+1)\n",
    "    plt.imshow(xTrain[i])\n",
    "    plt.axis('off')\n",
    "plt.suptitle('After Normalization')\n",
    "plt.show()\n",
    "\n",
    "# todo: remove\n",
    "# xTrain = xTrain[:2000]\n",
    "# yTrain = yTrain[:2000]\n",
    "# xTest = xTest[:150]\n",
    "# yTest = yTest[:150]\n",
    "\n",
    "# applying one hot encoding\n",
    "nUniqueLabels = len(np.unique(yTrain))\n",
    "print(\"Number of categories: \",nUniqueLabels)\n",
    "yEncoded = np.zeros((len(yTrain), nUniqueLabels))\n",
    "for i, label in enumerate(yTrain):\n",
    "    yEncoded[i, label] = 1\n",
    "yTrain = yEncoded\n",
    "\n",
    "yEncoded2 = np.zeros((len(yTest), nUniqueLabels))\n",
    "for i, label in enumerate(yTest):\n",
    "    yEncoded2[i, label] = 1\n",
    "yTest = yEncoded2"
   ]
  },
  {
   "attachments": {},
   "cell_type": "markdown",
   "metadata": {},
   "source": [
    "----------------------------------\n",
    "### 2. Convolution layer"
   ]
  },
  {
   "cell_type": "code",
   "execution_count": 2,
   "metadata": {},
   "outputs": [],
   "source": [
    "# nK: Number of kernels\n",
    "class ConvLayer:\n",
    "    def __init__(self, nK=2, kDim=3):\n",
    "        self.nK = nK\n",
    "        self.kDim = kDim # 3 * 3\n",
    "        self.previnM = None\n",
    "        self.kernels = np.random.randn(nK, kDim, kDim)\n",
    "        # print(\"KernelShape: \", self.kernels.shape)\n",
    "\n",
    "    # multiply a 2d matrix by kenel, sliding across\n",
    "    def convolute(self, inM, kernel):\n",
    "        km, kn = kernel.shape\n",
    "        m = inM.shape[0] - km + 1\n",
    "        n = inM.shape[1] - kn + 1\n",
    "        outM = np.zeros((m,n))\n",
    "        for i in range(m):\n",
    "            for j in range(n):\n",
    "                outM[i, j] = np.sum(inM[i:i+km, j:j+kn] * kernel)\n",
    "\n",
    "        return outM\n",
    "    \n",
    "    # forward prop\n",
    "    def forward(self, inM):\n",
    "        # store for backpropagation\n",
    "        self.previnM = inM\n",
    "\n",
    "        # compute shapes\n",
    "        h = inM.shape[0] - self.kDim + 1\n",
    "        w = inM.shape[1] - self.kDim + 1\n",
    "        convOut = np.zeros((h, w, self.nK))\n",
    "\n",
    "        # for each kernel\n",
    "        for i in range(self.nK):\n",
    "            # apply the i-th kernel to the inM image\n",
    "            convolved = self.convolute(inM, self.kernels[i])\n",
    "            \n",
    "            # store the result in the convOut matrix\n",
    "            for hi in range(h):\n",
    "                for wi in range(w):\n",
    "                    convOut[hi, wi, i] = convolved[hi, wi]\n",
    "\n",
    "        # print(\"C: \", convOut.shape)\n",
    "        return convOut\n",
    "    \n",
    "    # back prop: equation solution found online\n",
    "    def backward(self, dO, lr):\n",
    "        \n",
    "        dK = np.zeros(self.kernels.shape)\n",
    "        # self.kernels.shape # 2,3,3\n",
    "\n",
    "        # for each kernel \n",
    "        for i in range(self.nK):\n",
    "            dK[i] = self.convolute(self.previnM, dO[:, :, i])\n",
    "\n",
    "        # update the kernels\n",
    "        self.kernels -= lr * dK\n",
    "        return None"
   ]
  },
  {
   "cell_type": "markdown",
   "metadata": {},
   "source": [
    "----------------------------------\n",
    "### 3. Average pooling layer"
   ]
  },
  {
   "cell_type": "code",
   "execution_count": 3,
   "metadata": {},
   "outputs": [],
   "source": [
    "# avg pool layer, poolsize = stride\n",
    "class AvgPoolingLayer:\n",
    "    def __init__(self, pS=2):\n",
    "        self.pS = pS\n",
    "        self.prevIn = None\n",
    "\n",
    "    #forwar prop\n",
    "    def forward(self, inM):\n",
    "        self.prevIn = inM   # remember the input matrix\n",
    "        m, n, o = inM.shape\n",
    "        outM = np.zeros((int(m / self.pS), int(n/ self.pS), o))\n",
    "\n",
    "        # take mean of the pool size\n",
    "        for i in range(0, m, self.pS):\n",
    "            for j in range(0, n, self.pS):\n",
    "                outM[int(i / self.pS), int(j / self.pS)] = np.mean(inM[i:i + self.pS, j:j + self.pS], axis=(0, 1))\n",
    "\n",
    "        # print(\"A: \", outM.shape)\n",
    "        return outM\n",
    "    \n",
    "    # back prop\n",
    "    def backward(self, dO):\n",
    "        outM = np.zeros(self.prevIn.shape)\n",
    "\n",
    "        #upscale\n",
    "        for i in range(0, outM.shape[0], self.pS):\n",
    "            for j in range(0, outM.shape[1], self.pS):\n",
    "                for k in range(self.pS):\n",
    "                    for l in range(self.pS):\n",
    "                        outM[i + k, j + l] = dO[int(i / self.pS), int(j / self.pS)] / (self.pS * self.pS)\n",
    "        # print(\"B-A: \", outM.shape)\n",
    "        return outM\n"
   ]
  },
  {
   "attachments": {},
   "cell_type": "markdown",
   "metadata": {},
   "source": [
    "----------------------------------\n",
    "### 4. 1*1 convolution layer: fully connected"
   ]
  },
  {
   "cell_type": "code",
   "execution_count": 4,
   "metadata": {},
   "outputs": [],
   "source": [
    "class FullyConnectedLayer:\n",
    "    def __init__(self, inNeurons, outNeurons):\n",
    "        # weights for each of the neurons in the flattened layer, He initialization method\n",
    "        self.w = np.random.randn(inNeurons, outNeurons) * np.sqrt(2 / inNeurons)\n",
    "        self.b = np.zeros(outNeurons)\n",
    "        self.inShape = None\n",
    "        self.lastIn = None\n",
    "\n",
    "    # forward prop\n",
    "    def forward(self, inLayer):\n",
    "        # store shape for backprop\n",
    "        self.inShape = inLayer.shape\n",
    "        inLayerFlat = inLayer.flatten()\n",
    "        # print(\"Iflat:\", inLayerFlat.shape)\n",
    "        self.lastIn = inLayerFlat\n",
    "        return np.dot(inLayerFlat, self.w) + self.b\n",
    "    \n",
    "    # backward prop\n",
    "    def backward(self, dO, lr):\n",
    "        # dO is (10,)\n",
    "        outMat = np.dot(dO, self.w.T).reshape(self.inShape)\n",
    "        dW = np.dot(self.lastIn.reshape(-1, 1), dO.reshape(1, -1))\n",
    "        dB = dO\n",
    "\n",
    "        # update weights and biases\n",
    "        self.w -= lr * dW\n",
    "        self.b -= lr * dB\n",
    "        # print(\"B-F: \",outMat.shape)\n",
    "        return outMat"
   ]
  },
  {
   "attachments": {},
   "cell_type": "markdown",
   "metadata": {},
   "source": [
    "--------------------------\n",
    "### 5. CNN class"
   ]
  },
  {
   "cell_type": "code",
   "execution_count": 5,
   "metadata": {},
   "outputs": [],
   "source": [
    "class CNN:\n",
    "    def __init__(self, actFnName = 'sigmoid'):\n",
    "        self.conv1 = ConvLayer()\n",
    "        self.pool1 = AvgPoolingLayer()\n",
    "        self.fc1 = FullyConnectedLayer(13 * 13 * 2, 10)\n",
    "        self.lastConvActVal = None\n",
    "        self.actFn = None\n",
    "        self.actFnDeriv = None\n",
    "\n",
    "        # define activation functions to be used with the first convolution layer\n",
    "        if actFnName == 'relu':\n",
    "            self.actFn = self.relu\n",
    "            self.actFnDeriv = self.reluDeriv\n",
    "        elif actFnName == 'sigmoid':\n",
    "            self.actFn = self.sigmoid\n",
    "            self.actFnDeriv = self.sigmoidDeriv\n",
    "        elif actFnName == 'tanh':\n",
    "            self.actFn = self.tanh\n",
    "            self.actFnDeriv = self.tanhDeriv\n",
    "\n",
    "    # softmax\n",
    "    def softmax(self, x):\n",
    "        eX = np.exp(x - np.max(x))\n",
    "        return eX / eX.sum(axis=-1, keepdims=True)\n",
    "\n",
    "    # sigmoid function and its derivative\n",
    "    def sigmoid(self,x):\n",
    "        return (1/(1+np.exp(-x)))\n",
    "    def sigmoidDeriv(self, x):\n",
    "        s = self.sigmoid(x)\n",
    "        return s * (1 -s)\n",
    "    \n",
    "    # hyperbolic tangent and its derivative \n",
    "    def tanh(self, x):\n",
    "        return np.tanh(x)\n",
    "    def tanhDeriv(self,x):\n",
    "        t = np.tanh(x)\n",
    "        return 1 - t ** 2\n",
    "    \n",
    "    # relu function and its derivative\n",
    "    def relu(self, x):\n",
    "        return x * (x > 0)\n",
    "    def reluDeriv(self, x):\n",
    "        return 1. * (x>0)\n",
    "    \n",
    "    # forward prop\n",
    "    def forward(self, input):\n",
    "        layerRes = self.conv1.forward(input)\n",
    "        self.lastConvActVal = self.actFn(layerRes)\n",
    "        layerRes = self.pool1.forward(self.lastConvActVal)\n",
    "        layerRes = self.fc1.forward(layerRes)\n",
    "        layerRes = self.softmax(layerRes)\n",
    "        return layerRes\n",
    "    \n",
    "    # backward prop\n",
    "    def backward(self, dLoss, lr):\n",
    "        dLoss = self.fc1.backward(dLoss, lr)\n",
    "        dLoss = self.pool1.backward(dLoss)\n",
    "        dLoss *= self.actFnDeriv(self.lastConvActVal)\n",
    "        self.conv1.backward(dLoss, lr)\n",
    "\n",
    "    # train the model\n",
    "    def train(self, xTrain, yTrain, xt, yt, lr, epochs):\n",
    "        for epoch in range(epochs):\n",
    "            # print(\"Epoch:\" , epoch)\n",
    "            loss = 0\n",
    "            accuracy = 0\n",
    "            for i, (x, y) in enumerate(zip(xTrain, yTrain)):\n",
    "                yP = self.forward(x)\n",
    "                # categorical cross-entropy loss\n",
    "                loss += -np.sum(y * np.log(yP))\n",
    "                accuracy += np.argmax(yP) == np.argmax(y)\n",
    "                # categorical loss derivative wrt to softmax ie. gradient of the loss with respect to the output of the softmax layer\n",
    "                dLoss = yP - y\n",
    "                self.backward(dLoss, lr)\n",
    "                # sys.exit()\n",
    "            loss /= len(xTrain)\n",
    "            accuracy /= len(xTrain)\n",
    "            print(f'Epoch: {epoch + 1}, Train: Loss: {loss:.4f}, Accuracy: {accuracy:.4f} |', end=\" \")\n",
    "            self.test(xt, yt)\n",
    "\n",
    "    #test the model with test data\n",
    "    def test(self, xT, yT):\n",
    "        loss = 0\n",
    "        accuracy = 0\n",
    "        n = len(xT)\n",
    "        for x, y in zip(xT, yT):\n",
    "            yP = self.forward(x)\n",
    "            # categorical cross-entropy loss\n",
    "            loss += -np.sum(y * np.log(yP))\n",
    "            accuracy += np.argmax(yP) == np.argmax(y)\n",
    "        loss /= n\n",
    "        accuracy /= n\n",
    "        print(f'Test: Loss: {loss:.4f}, Accuracy: {accuracy:.4f}')\n"
   ]
  },
  {
   "attachments": {},
   "cell_type": "markdown",
   "metadata": {},
   "source": [
    "-------------------------\n",
    "### 6. Training and testing with different activation functions"
   ]
  },
  {
   "cell_type": "code",
   "execution_count": 6,
   "metadata": {},
   "outputs": [
    {
     "name": "stdout",
     "output_type": "stream",
     "text": [
      "Epoch: 1, Train: Loss: 0.3980, Accuracy: 0.8857 | Test: Loss: 0.3216, Accuracy: 0.9046\n",
      "Epoch: 2, Train: Loss: 0.3049, Accuracy: 0.9097 | Test: Loss: 0.3102, Accuracy: 0.9084\n",
      "Epoch: 3, Train: Loss: 0.2943, Accuracy: 0.9130 | Test: Loss: 0.3067, Accuracy: 0.9094\n",
      "Epoch: 4, Train: Loss: 0.2892, Accuracy: 0.9146 | Test: Loss: 0.3051, Accuracy: 0.9099\n",
      "Epoch: 5, Train: Loss: 0.2861, Accuracy: 0.9156 | Test: Loss: 0.3041, Accuracy: 0.9105\n",
      "Test: Loss: 0.3041, Accuracy: 0.9105\n"
     ]
    }
   ],
   "source": [
    "# train and test with sigmoid\n",
    "cnn = CNN(actFnName = 'sigmoid')\n",
    "cnn.train(xTrain, yTrain, xTest, yTest, lr=0.005, epochs=5)\n",
    "cnn.test(xTest, yTest)"
   ]
  },
  {
   "cell_type": "code",
   "execution_count": 7,
   "metadata": {},
   "outputs": [
    {
     "name": "stdout",
     "output_type": "stream",
     "text": [
      "Epoch: 1, Train: Loss: 0.3443, Accuracy: 0.8982 | Test: Loss: 0.3455, Accuracy: 0.8971\n",
      "Epoch: 2, Train: Loss: 0.2940, Accuracy: 0.9142 | Test: Loss: 0.3351, Accuracy: 0.9027\n",
      "Epoch: 3, Train: Loss: 0.2833, Accuracy: 0.9176 | Test: Loss: 0.3279, Accuracy: 0.9056\n",
      "Epoch: 4, Train: Loss: 0.2762, Accuracy: 0.9200 | Test: Loss: 0.3213, Accuracy: 0.9090\n",
      "Epoch: 5, Train: Loss: 0.2704, Accuracy: 0.9217 | Test: Loss: 0.3157, Accuracy: 0.9107\n",
      "Test: Loss: 0.3157, Accuracy: 0.9107\n"
     ]
    }
   ],
   "source": [
    "# test with tanh\n",
    "cnn2 = CNN(actFnName = 'tanh')\n",
    "cnn2.train(xTrain, yTrain, xTest, yTest, lr=0.005, epochs=5)\n",
    "cnn2.test(xTest, yTest)"
   ]
  },
  {
   "cell_type": "code",
   "execution_count": 8,
   "metadata": {},
   "outputs": [
    {
     "name": "stdout",
     "output_type": "stream",
     "text": [
      "Epoch: 1, Train: Loss: 0.2651, Accuracy: 0.9248 | Test: Loss: 0.2373, Accuracy: 0.9349\n",
      "Epoch: 2, Train: Loss: 0.1747, Accuracy: 0.9514 | Test: Loss: 0.1666, Accuracy: 0.9522\n",
      "Epoch: 3, Train: Loss: 0.1514, Accuracy: 0.9567 | Test: Loss: 0.1595, Accuracy: 0.9542\n",
      "Epoch: 4, Train: Loss: 0.1416, Accuracy: 0.9594 | Test: Loss: 0.1582, Accuracy: 0.9564\n",
      "Epoch: 5, Train: Loss: 0.1351, Accuracy: 0.9604 | Test: Loss: 0.1501, Accuracy: 0.9576\n",
      "Test: Loss: 0.1501, Accuracy: 0.9576\n"
     ]
    }
   ],
   "source": [
    "# test with relu\n",
    "cnn3 = CNN(actFnName = 'relu')\n",
    "cnn3.train(xTrain, yTrain, xTest, yTest, lr=0.005, epochs=5)\n",
    "cnn3.test(xTest, yTest)"
   ]
  },
  {
   "attachments": {},
   "cell_type": "markdown",
   "metadata": {},
   "source": [
    "-------------------------\n",
    "References:\n",
    "\n",
    "1. Convolution back propagation math:\n",
    "https://pavisj.medium.com/convolutions-and-backpropagations-46026a8f5d2c\n",
    "\n",
    "2. Gradient of the loss with respect to output of the softmax layer:\n",
    "https://stats.stackexchange.com/questions/370723/how-to-calculate-the-derivative-of-crossentropy-error-function"
   ]
  }
 ],
 "metadata": {
  "kernelspec": {
   "display_name": "Python 3 (ipykernel)",
   "language": "python",
   "name": "python3"
  },
  "language_info": {
   "codemirror_mode": {
    "name": "ipython",
    "version": 3
   },
   "file_extension": ".py",
   "mimetype": "text/x-python",
   "name": "python",
   "nbconvert_exporter": "python",
   "pygments_lexer": "ipython3",
   "version": "3.9.13"
  }
 },
 "nbformat": 4,
 "nbformat_minor": 2
}
